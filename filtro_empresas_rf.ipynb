{
 "cells": [
  {
   "cell_type": "code",
   "execution_count": 1,
   "metadata": {},
   "outputs": [],
   "source": [
    "import pandas as pd"
   ]
  },
  {
   "cell_type": "code",
   "execution_count": 2,
   "metadata": {},
   "outputs": [],
   "source": [
    "cols= ['cnpj','codigo_natureza_juridica', 'cnae_fiscal', 'descricao_tipo_logradouro', 'logradouro', 'numero', 'bairro', 'cep', 'uf', 'codigo_municipio', 'municipio', 'capital_social','porte']"
   ]
  },
  {
   "cell_type": "code",
   "execution_count": 3,
   "metadata": {},
   "outputs": [],
   "source": [
    "iter_csv = pd.read_csv('empresa.csv', usecols = cols, iterator = True, dtype = {'cep': object},chunksize = 1000)\n",
    "df = pd.concat([chunk[chunk['municipio'] == 'SAO PAULO'] for chunk in iter_csv])"
   ]
  },
  {
   "cell_type": "code",
   "execution_count": 4,
   "metadata": {},
   "outputs": [
    {
     "name": "stdout",
     "output_type": "stream",
     "text": [
      "<class 'pandas.core.frame.DataFrame'>\n",
      "Int64Index: 3676064 entries, 17 to 41512471\n",
      "Data columns (total 13 columns):\n",
      " #   Column                     Dtype  \n",
      "---  ------                     -----  \n",
      " 0   cnpj                       int64  \n",
      " 1   codigo_natureza_juridica   int64  \n",
      " 2   cnae_fiscal                int64  \n",
      " 3   descricao_tipo_logradouro  object \n",
      " 4   logradouro                 object \n",
      " 5   numero                     object \n",
      " 6   bairro                     object \n",
      " 7   cep                        object \n",
      " 8   uf                         object \n",
      " 9   codigo_municipio           int64  \n",
      " 10  municipio                  object \n",
      " 11  capital_social             float64\n",
      " 12  porte                      int64  \n",
      "dtypes: float64(1), int64(5), object(7)\n",
      "memory usage: 392.6+ MB\n"
     ]
    }
   ],
   "source": [
    "df.info(verbose = True)"
   ]
  },
  {
   "cell_type": "code",
   "execution_count": 8,
   "metadata": {},
   "outputs": [
    {
     "data": {
      "text/plain": [
       "Index(['cnpj', 'codigo_natureza_juridica', 'cnae_fiscal',\n",
       "       'descricao_tipo_logradouro', 'logradouro', 'numero', 'bairro', 'cep',\n",
       "       'uf', 'codigo_municipio', 'municipio', 'capital_social', 'porte'],\n",
       "      dtype='object')"
      ]
     },
     "execution_count": 8,
     "metadata": {},
     "output_type": "execute_result"
    }
   ],
   "source": [
    "df.columns"
   ]
  },
  {
   "cell_type": "code",
   "execution_count": 10,
   "metadata": {},
   "outputs": [],
   "source": [
    "df.drop(labels=['cnpj', 'codigo_natureza_juridica', 'descricao_tipo_logradouro', 'logradouro', 'numero', 'bairro', 'uf', 'codigo_municipio', 'municipio', 'capital_social', 'porte'], axis=1, inplace=True)"
   ]
  },
  {
   "cell_type": "code",
   "execution_count": 70,
   "metadata": {},
   "outputs": [],
   "source": [
    "df.dropna(axis=0, inplace=True)"
   ]
  },
  {
   "cell_type": "code",
   "execution_count": 71,
   "metadata": {},
   "outputs": [],
   "source": [
    "cep= df.cep"
   ]
  },
  {
   "cell_type": "code",
   "execution_count": 72,
   "metadata": {},
   "outputs": [],
   "source": [
    "novos_ceps = []"
   ]
  },
  {
   "cell_type": "code",
   "execution_count": 73,
   "metadata": {},
   "outputs": [],
   "source": [
    "for c in cep:\n",
    "    if len(c)<8:\n",
    "        tamanho = len(c)\n",
    "        zeros = 8-tamanho\n",
    "        novo_cep = zeros*\"0\"+c\n",
    "        novos_ceps.append(novo_cep[:5]+\"-\"+novo_cep[-3:])\n",
    "    else:\n",
    "        novos_ceps.append(c[:5]+\"-\"+c[-3:])\n",
    "\n",
    "        "
   ]
  },
  {
   "cell_type": "code",
   "execution_count": 79,
   "metadata": {},
   "outputs": [],
   "source": [
    "df['cep2']=novos_ceps"
   ]
  },
  {
   "cell_type": "code",
   "execution_count": 81,
   "metadata": {},
   "outputs": [],
   "source": [
    "df.drop(\"cep\", axis=1,inplace=True)"
   ]
  },
  {
   "cell_type": "code",
   "execution_count": 82,
   "metadata": {},
   "outputs": [
    {
     "data": {
      "text/html": [
       "<div>\n",
       "<style scoped>\n",
       "    .dataframe tbody tr th:only-of-type {\n",
       "        vertical-align: middle;\n",
       "    }\n",
       "\n",
       "    .dataframe tbody tr th {\n",
       "        vertical-align: top;\n",
       "    }\n",
       "\n",
       "    .dataframe thead th {\n",
       "        text-align: right;\n",
       "    }\n",
       "</style>\n",
       "<table border=\"1\" class=\"dataframe\">\n",
       "  <thead>\n",
       "    <tr style=\"text-align: right;\">\n",
       "      <th></th>\n",
       "      <th>cnae_fiscal</th>\n",
       "      <th>cep2</th>\n",
       "    </tr>\n",
       "  </thead>\n",
       "  <tbody>\n",
       "    <tr>\n",
       "      <th>17</th>\n",
       "      <td>6421200</td>\n",
       "      <td>01011-100</td>\n",
       "    </tr>\n",
       "    <tr>\n",
       "      <th>296</th>\n",
       "      <td>6421200</td>\n",
       "      <td>05072-000</td>\n",
       "    </tr>\n",
       "    <tr>\n",
       "      <th>297</th>\n",
       "      <td>6421200</td>\n",
       "      <td>03606-010</td>\n",
       "    </tr>\n",
       "    <tr>\n",
       "      <th>299</th>\n",
       "      <td>6422100</td>\n",
       "      <td>04046-000</td>\n",
       "    </tr>\n",
       "    <tr>\n",
       "      <th>300</th>\n",
       "      <td>6421200</td>\n",
       "      <td>04203-050</td>\n",
       "    </tr>\n",
       "    <tr>\n",
       "      <th>...</th>\n",
       "      <td>...</td>\n",
       "      <td>...</td>\n",
       "    </tr>\n",
       "    <tr>\n",
       "      <th>41511190</th>\n",
       "      <td>3211601</td>\n",
       "      <td>01023-900</td>\n",
       "    </tr>\n",
       "    <tr>\n",
       "      <th>41511195</th>\n",
       "      <td>7490101</td>\n",
       "      <td>01026-001</td>\n",
       "    </tr>\n",
       "    <tr>\n",
       "      <th>41511247</th>\n",
       "      <td>4930201</td>\n",
       "      <td>05317-000</td>\n",
       "    </tr>\n",
       "    <tr>\n",
       "      <th>41511664</th>\n",
       "      <td>4930202</td>\n",
       "      <td>05114-001</td>\n",
       "    </tr>\n",
       "    <tr>\n",
       "      <th>41512471</th>\n",
       "      <td>8888888</td>\n",
       "      <td>08210-040</td>\n",
       "    </tr>\n",
       "  </tbody>\n",
       "</table>\n",
       "<p>3676062 rows × 2 columns</p>\n",
       "</div>"
      ],
      "text/plain": [
       "          cnae_fiscal       cep2\n",
       "17            6421200  01011-100\n",
       "296           6421200  05072-000\n",
       "297           6421200  03606-010\n",
       "299           6422100  04046-000\n",
       "300           6421200  04203-050\n",
       "...               ...        ...\n",
       "41511190      3211601  01023-900\n",
       "41511195      7490101  01026-001\n",
       "41511247      4930201  05317-000\n",
       "41511664      4930202  05114-001\n",
       "41512471      8888888  08210-040\n",
       "\n",
       "[3676062 rows x 2 columns]"
      ]
     },
     "execution_count": 82,
     "metadata": {},
     "output_type": "execute_result"
    }
   ],
   "source": [
    "df"
   ]
  },
  {
   "cell_type": "code",
   "execution_count": 88,
   "metadata": {},
   "outputs": [],
   "source": [
    "quantidade = df.groupby('cep2')['cnae_fiscal'].value_counts().unstack(fill_value=0)"
   ]
  },
  {
   "cell_type": "code",
   "execution_count": 89,
   "metadata": {},
   "outputs": [],
   "source": [
    "quantidade.to_csv('quantidade_cnae.csv')"
   ]
  }
 ],
 "metadata": {
  "kernelspec": {
   "display_name": "Python 3",
   "language": "python",
   "name": "python3"
  },
  "language_info": {
   "codemirror_mode": {
    "name": "ipython",
    "version": 3
   },
   "file_extension": ".py",
   "mimetype": "text/x-python",
   "name": "python",
   "nbconvert_exporter": "python",
   "pygments_lexer": "ipython3",
   "version": "3.6.5"
  }
 },
 "nbformat": 4,
 "nbformat_minor": 2
}
